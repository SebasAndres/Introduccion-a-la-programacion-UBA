{
 "cells": [
  {
   "cell_type": "code",
   "execution_count": 39,
   "metadata": {},
   "outputs": [],
   "source": [
    "from typing import List\n",
    "\n",
    "def filasParecidas(matriz: List[List[int]]) -> bool :\n",
    "\n",
    "    primeraFila:List[int] = matriz[0]\n",
    "    n_coordenadas = len(primeraFila)\n",
    "\n",
    "    if len(matriz) == 1:\n",
    "      return True\n",
    "\n",
    "    segundaFila:List[int] = matriz[1]\n",
    "    dif_inicial:int = segundaFila[0] - primeraFila[0]\n",
    "\n",
    "    filaAnterior = primeraFila\n",
    "    for fila in matriz[1:]:\n",
    "        # armo un conjunto con las diferencias en cada indice\n",
    "        diferencias:List[int] = []\n",
    "        \n",
    "        for i in range(n_coordenadas):\n",
    "            diferencias.append(fila[i] - filaAnterior[i])\n",
    "        \n",
    "        if len(set(diferencias)) > 1 or diferencias[0] != dif_inicial: \n",
    "            # todas las diferencias tienen que ser iguales filaActual[i] = filaAnterior[i] + dif_inicial\n",
    "            return False     \n",
    "\n",
    "        filaAnterior = fila   \n",
    "\n",
    "    return True"
   ]
  },
  {
   "cell_type": "code",
   "execution_count": 50,
   "metadata": {},
   "outputs": [],
   "source": [
    "mUnaFilaUnaCol = [[1]]\n",
    "mUnaFilaVariasCol = [[1,2,3]]\n",
    "\n",
    "mVarisFilasUnaCol_OK = [[1],[2],[3]]\n",
    "mVarisFilasUnaCol_BAD = [[6],[2],[3]]\n",
    "\n",
    "mVarisFilasVariasCol_OK = [[1,2],[3,4],[5,6]]\n",
    "mVarisFilasVariasCol_BAD = [[0,2],[3,4],[5,6]]"
   ]
  },
  {
   "cell_type": "code",
   "execution_count": 51,
   "metadata": {},
   "outputs": [
    {
     "data": {
      "text/plain": [
       "True"
      ]
     },
     "execution_count": 51,
     "metadata": {},
     "output_type": "execute_result"
    }
   ],
   "source": [
    "filasParecidas(mVarisFilasVariasCol_OK)"
   ]
  },
  {
   "cell_type": "code",
   "execution_count": null,
   "metadata": {},
   "outputs": [],
   "source": []
  }
 ],
 "metadata": {
  "kernelspec": {
   "display_name": "Python 3",
   "language": "python",
   "name": "python3"
  },
  "language_info": {
   "codemirror_mode": {
    "name": "ipython",
    "version": 3
   },
   "file_extension": ".py",
   "mimetype": "text/x-python",
   "name": "python",
   "nbconvert_exporter": "python",
   "pygments_lexer": "ipython3",
   "version": "3.10.6"
  },
  "orig_nbformat": 4
 },
 "nbformat": 4,
 "nbformat_minor": 2
}
