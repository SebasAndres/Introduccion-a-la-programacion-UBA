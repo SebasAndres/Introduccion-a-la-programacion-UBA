{
 "cells": [
  {
   "cell_type": "code",
   "execution_count": 1,
   "metadata": {},
   "outputs": [],
   "source": [
    "def pertenece(seq:list, e:int) -> bool:\n",
    "    for elem in seq:\n",
    "        if elem == e:\n",
    "            return True\n",
    "    return False"
   ]
  },
  {
   "cell_type": "code",
   "execution_count": 2,
   "metadata": {},
   "outputs": [],
   "source": [
    "def divideATodos(seq:list, n:int) -> bool:\n",
    "    for elem in seq:\n",
    "        if elem % n != 0:\n",
    "            return False\n",
    "    return True"
   ]
  },
  {
   "cell_type": "code",
   "execution_count": 3,
   "metadata": {},
   "outputs": [],
   "source": [
    "def ordenados(seq:list) -> bool:\n",
    "    longitud:int = len(seq)\n",
    "    for i in range(longitud-1):\n",
    "        if seq[i] > seq[i+1]:\n",
    "            return False\n",
    "    return True "
   ]
  },
  {
   "cell_type": "code",
   "execution_count": 4,
   "metadata": {},
   "outputs": [],
   "source": [
    "def esPalindromo(palabra:str) -> bool:\n",
    "    # o implementar reverse(palabra)\n",
    "    return palabra[::-1] == palabra"
   ]
  },
  {
   "cell_type": "code",
   "execution_count": 5,
   "metadata": {},
   "outputs": [],
   "source": [
    "def reverse(palabra:str) -> str:\n",
    "    reversed:str = \"\"\n",
    "    longitud:int = len(palabra)\n",
    "    for i in range(longitud):\n",
    "        reversed += palabra[longitud-i]\n",
    "    return reversed"
   ]
  },
  {
   "cell_type": "code",
   "execution_count": 6,
   "metadata": {},
   "outputs": [],
   "source": [
    "def strenghtPassword(password:str) -> str:\n",
    "    longitud = len(password)\n",
    "    if longitud < 5:\n",
    "        return \"ROJO\"\n",
    "    elif longitud > 8:\n",
    "        cantidad_mayusculas:int = 0\n",
    "        cantidad_minusculas:int = 0\n",
    "        cantidad_numeros:int = 0\n",
    "        for char in password:\n",
    "            if \"a\" <= char <= \"z\":\n",
    "                cantidad_minusculas += 1\n",
    "            elif \"A\" <= char <= \"Z\":\n",
    "                cantidad_mayusculas += 1\n",
    "            elif \"1\" <= char <= \"9\":\n",
    "                cantidad_numeros += 1\n",
    "        \n",
    "        if cantidad_mayusculas > 0 and \\\n",
    "           cantidad_minusculas > 0 and \\\n",
    "           cantidad_numeros > 0:\n",
    "            return \"VERDE\"\n",
    "        else:\n",
    "            return \"AMARILLO\"    "
   ]
  },
  {
   "cell_type": "code",
   "execution_count": 7,
   "metadata": {},
   "outputs": [],
   "source": [
    "def saldo(movimientos:list) -> int:\n",
    "    saldo = 0\n",
    "    for tipo, monto in movimientos:\n",
    "        if tipo == 'I':\n",
    "            saldo += monto\n",
    "        else:\n",
    "            saldo -= monto\n",
    "    return saldo"
   ]
  },
  {
   "cell_type": "code",
   "execution_count": 8,
   "metadata": {},
   "outputs": [],
   "source": [
    "def saldo(movimientos:list) -> int:\n",
    "    saldo = 0\n",
    "    for tipo, monto in movimientos:\n",
    "        if tipo == 'I':\n",
    "            saldo += monto\n",
    "        else:\n",
    "            saldo -= monto\n",
    "    return saldo\n",
    "\n",
    "def saldoRecursivo(movimientos:list) -> int:\n",
    "    if len(movimientos) == 0:\n",
    "        return 0\n",
    "    else:\n",
    "        tipo, monto = movimientos[0]\n",
    "        fstmov = int(tipo=='I')*monto - int(tipo=='R')*monto\n",
    "        return fstmov + saldoRecursivo(movimientos[1:])"
   ]
  },
  {
   "cell_type": "code",
   "execution_count": 9,
   "metadata": {},
   "outputs": [],
   "source": [
    "def palabraTieneAlMenos3VocalesDistintas(palabra:str) -> bool:\n",
    "    return cantidadVocalesDistintas(palabra) >= 3\n",
    "\n",
    "def cantidadVocalesDistintas(palabra:str) -> int:\n",
    "    vocales:list = ['a', 'e', 'i', 'o', 'u']\n",
    "    for chr in palabra:\n",
    "        if chr.lower() in vocales:\n",
    "            vocales.remove(chr)\n",
    "    return 5 - len(vocales)"
   ]
  }
 ],
 "metadata": {
  "kernelspec": {
   "display_name": "Python 3",
   "language": "python",
   "name": "python3"
  },
  "language_info": {
   "codemirror_mode": {
    "name": "ipython",
    "version": 3
   },
   "file_extension": ".py",
   "mimetype": "text/x-python",
   "name": "python",
   "nbconvert_exporter": "python",
   "pygments_lexer": "ipython3",
   "version": "3.10.6"
  },
  "orig_nbformat": 4
 },
 "nbformat": 4,
 "nbformat_minor": 2
}
