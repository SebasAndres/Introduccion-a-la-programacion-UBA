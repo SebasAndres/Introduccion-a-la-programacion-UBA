{
 "cells": [
  {
   "attachments": {},
   "cell_type": "markdown",
   "metadata": {},
   "source": [
    "# Archivos"
   ]
  },
  {
   "attachments": {},
   "cell_type": "markdown",
   "metadata": {},
   "source": [
    "## Ejercicio 1"
   ]
  },
  {
   "cell_type": "code",
   "execution_count": 2,
   "metadata": {},
   "outputs": [],
   "source": [
    "def contarlineas(nombre_archivo:str) -> int:\n",
    "    # devuelve la cantidad de lineas de un archivo de texto\n",
    "    n_lineas:int = 0\n",
    "    with open(nombre_archivo, \"r\") as file:\n",
    "        n_lineas = len(file.readlines())        \n",
    "    return n_lineas"
   ]
  },
  {
   "cell_type": "code",
   "execution_count": 3,
   "metadata": {},
   "outputs": [
    {
     "data": {
      "text/plain": [
       "3"
      ]
     },
     "execution_count": 3,
     "metadata": {},
     "output_type": "execute_result"
    }
   ],
   "source": [
    "contarlineas(\"input_files/texto1.txt\")"
   ]
  },
  {
   "cell_type": "code",
   "execution_count": 4,
   "metadata": {},
   "outputs": [],
   "source": [
    "def existePalabra(palabra:str, nombre_archivo:str) -> bool:\n",
    "    with open(nombre_archivo, \"r\") as f:\n",
    "        for line in f.readlines():\n",
    "            if palabra in line:\n",
    "                return True\n",
    "    return False"
   ]
  },
  {
   "cell_type": "code",
   "execution_count": 11,
   "metadata": {},
   "outputs": [
    {
     "data": {
      "text/plain": [
       "True"
      ]
     },
     "execution_count": 11,
     "metadata": {},
     "output_type": "execute_result"
    }
   ],
   "source": [
    "existePalabra(\"motomami\", \"input_files/texto1.txt\") == True and \\\n",
    "existePalabra(\"messi\", \"input_files/texto1.txt\") == False"
   ]
  },
  {
   "cell_type": "code",
   "execution_count": 14,
   "metadata": {},
   "outputs": [],
   "source": [
    "def cantidadAparicionesLinea(palabra:str, linea:str) -> int:   \n",
    "    contador:int = 0\n",
    "    \n",
    "    if len(palabra) > len(linea):\n",
    "        return 0\n",
    "    \n",
    "    max_start_index:int = len(linea) - len(palabra)\n",
    "    i:int = 0\n",
    "    while(i <= max_start_index):\n",
    "        if linea[i:len(palabra)+i] == palabra:\n",
    "            contador += 1\n",
    "            i += len(palabra)\n",
    "        else:\n",
    "            i += 1\n",
    "        \n",
    "    return contador"
   ]
  },
  {
   "cell_type": "code",
   "execution_count": 20,
   "metadata": {},
   "outputs": [],
   "source": [
    "def cantidadApariciones(palabra:str, nombre_archivo:str) -> bool:\n",
    "    contador:int = 0\n",
    "    with open(nombre_archivo, \"r\") as f:\n",
    "        for line in f.readlines():\n",
    "            contador += cantidadAparicionesLinea(palabra, line)\n",
    "    return contador"
   ]
  },
  {
   "cell_type": "code",
   "execution_count": 22,
   "metadata": {},
   "outputs": [
    {
     "data": {
      "text/plain": [
       "2"
      ]
     },
     "execution_count": 22,
     "metadata": {},
     "output_type": "execute_result"
    }
   ],
   "source": [
    "cantidadApariciones(\"moto\", \"input_files/texto1.txt\")"
   ]
  },
  {
   "attachments": {},
   "cell_type": "markdown",
   "metadata": {},
   "source": [
    "## Ejercicio 2.\n",
    "Dado un archivo de texto con comentarios, implementar una funcion clonarSinComentarios(in nombre archivo : str)\n",
    "que toma un archivo de entrada y genera un nuevo archivo que tiene el contenido original sin las l ́ıneas comentadas. Para este\n",
    "ejercicio vamos a considerar comentarios como aquellas l ́ıneas que tienen un caracter # como primer caracter de la l ́ınea, o si no\n",
    "es el primer caracter, se cumple que todos los anteriores son espacios"
   ]
  },
  {
   "cell_type": "code",
   "execution_count": 30,
   "metadata": {},
   "outputs": [],
   "source": [
    "def esComentario(linea:str) -> bool:\n",
    "    return primerCaracter(linea) == \"#\"\n",
    "\n",
    "def primerCaracter(linea:str) -> chr:\n",
    "    for chr in linea:\n",
    "        if chr != ' ':\n",
    "            return chr "
   ]
  },
  {
   "cell_type": "code",
   "execution_count": 49,
   "metadata": {},
   "outputs": [],
   "source": [
    "def clonarSinComentarios(nombre_archivo:str, archivo_resultado=\"out_files/texto_sin_comentarios.txt\"):\n",
    "    # lectura de datos\n",
    "    archivo_original = open(nombre_archivo, \"r\")\n",
    "    lineas_original:list = archivo_original.readlines()\n",
    "    archivo_original.close()\n",
    "\n",
    "    # filtrado de datos\n",
    "    lineas_sin_comentarios:list = list(filter(lambda x: not esComentario(x), lineas_original))\n",
    "    \n",
    "    # escritura   \n",
    "    archivo_respuesta = open(archivo_resultado, \"a\")\n",
    "    archivo_respuesta.writelines(lineas_sin_comentarios)\n",
    "    archivo_respuesta.close()"
   ]
  },
  {
   "cell_type": "code",
   "execution_count": 50,
   "metadata": {},
   "outputs": [],
   "source": [
    "clonarSinComentarios(\"input_files/texto_con_comentarios.txt\")"
   ]
  },
  {
   "attachments": {},
   "cell_type": "markdown",
   "metadata": {},
   "source": [
    "## Ejercicio 3. \n",
    "Dado un archivo de texto, implementar una funci ́on que escribe un archivo nuevo (‘reverso.txt‘) que tiene las\n",
    "mismas lıneas que el original, pero en el orden inverso."
   ]
  },
  {
   "cell_type": "code",
   "execution_count": 54,
   "metadata": {},
   "outputs": [
    {
     "data": {
      "text/plain": [
       "[10, 9, 8, 7, 6, 5, 4, 3, 2, 1, 0]"
      ]
     },
     "execution_count": 54,
     "metadata": {},
     "output_type": "execute_result"
    }
   ],
   "source": [
    "list(range(10, -1, -1))"
   ]
  },
  {
   "cell_type": "code",
   "execution_count": 68,
   "metadata": {},
   "outputs": [],
   "source": [
    "def invertirLista(lss:list) -> list:\n",
    "    invertida:list = []\n",
    "    for i in range(0, len(lss)):\n",
    "        invertida.append(lss[len(lss)-i-1])\n",
    "    return invertida"
   ]
  },
  {
   "cell_type": "code",
   "execution_count": 69,
   "metadata": {},
   "outputs": [
    {
     "data": {
      "text/plain": [
       "[2, 1]"
      ]
     },
     "execution_count": 69,
     "metadata": {},
     "output_type": "execute_result"
    }
   ],
   "source": [
    "invertirLista([1,2])"
   ]
  },
  {
   "cell_type": "code",
   "execution_count": 105,
   "metadata": {},
   "outputs": [],
   "source": [
    "def escribirReverso(input_file:str, out_file=\"out_files/reverso.txt\"):\n",
    "    # lectura de datos\n",
    "    lineas_originales:list = []\n",
    "    with open(input_file, \"r\") as file:\n",
    "        lineas_originales = file.readlines()\n",
    "\n",
    "    if len(lineas_originales) == 0:\n",
    "        return\n",
    "\n",
    "    # transformacion\n",
    "    lineas_invertidas:list = invertirLista(lineas_originales)\n",
    "    lineas_invertidas[0] += \"\\n\"\n",
    "\n",
    "    # escritura\n",
    "    with open(out_file, \"a\") as file:\n",
    "        file.writelines(lineas_invertidas)"
   ]
  },
  {
   "cell_type": "code",
   "execution_count": 106,
   "metadata": {},
   "outputs": [],
   "source": [
    "escribirReverso(input_file=\"input_files/invertir.txt\")"
   ]
  },
  {
   "attachments": {},
   "cell_type": "markdown",
   "metadata": {},
   "source": [
    "## Ejercicio 4.\n",
    "Dado un archivo de texto y una frase (es decir, texto que puede estar separado por ’\\n’), implementar una funcion que la agregue al final del archivo original (sin hacer una copia)"
   ]
  },
  {
   "cell_type": "code",
   "execution_count": 116,
   "metadata": {},
   "outputs": [],
   "source": [
    "def escribirAlFinal(input_file:str, frase:str):\n",
    "    with open(input_file, \"a\") as f:\n",
    "        f.write(frase)\n",
    "\n",
    "escribirAlFinal(\"input_files/texto1.txt\", \"boca te amo\")"
   ]
  },
  {
   "attachments": {},
   "cell_type": "markdown",
   "metadata": {},
   "source": [
    "## Ejercicio 5\n",
    "\n",
    "Idem pero al comienzo"
   ]
  },
  {
   "cell_type": "code",
   "execution_count": 118,
   "metadata": {},
   "outputs": [],
   "source": [
    "def escribirAlComienzo(input_file:str, frase:str):\n",
    "    with open(input_file, \"r+\") as file:\n",
    "        file.seek(0,0)\n",
    "        file.write(frase)\n",
    "\n",
    "escribirAlComienzo(\"input_files/texto1.txt\", \"bokita\")"
   ]
  },
  {
   "attachments": {},
   "cell_type": "markdown",
   "metadata": {},
   "source": [
    "## Ejercicio 6. \n",
    "\n",
    "Implementar una funci ́on que lea un archivo en modo *binario* y devuelva la lista de ’palabras legibles’. Vamos a\n",
    "definir una palabra legible como secuencias de texto formadas por numeros, letras mayusculas/minusculas y los caracteres ’ ’(espacio) y ’ ’(guion bajo) que tienen longitud >= 5 Una vez implementada la funci ́on, probarla con diferentes archivos binarios (.exe, .zip, .wav, .mp3, etc).\n",
    "\n",
    "Referencia: https://docs.python.org/es/3/library/functions.html#ope"
   ]
  },
  {
   "cell_type": "code",
   "execution_count": 123,
   "metadata": {},
   "outputs": [
    {
     "data": {
      "text/plain": [
       "b'123981jedjksdh\\n12u12y8w9kjh\\nasdiajsdojads'"
      ]
     },
     "execution_count": 123,
     "metadata": {},
     "output_type": "execute_result"
    }
   ],
   "source": [
    "def leerArchivoBinario(input_file:str) -> list:\n",
    "    with open(input_file,\"rb\") as f:\n",
    "        return f.read()\n",
    "    \n",
    "leerArchivoBinario(\"input_files/binary.bin\")"
   ]
  },
  {
   "attachments": {},
   "cell_type": "markdown",
   "metadata": {},
   "source": [
    "## Ejercicio 7. \n",
    "\n",
    "Implementar una funci on que lea un archivo de texto separado por comas (comma-separated values, o .csv) que contiene las notas de toda la carrera de un grupo de alumnos y calcule el promedio final de un alumno dado. La funci ́on promedioEstudiante(in lu : str) →float. El archivo tiene el siguiente formato.\n",
    "\n",
    "> Formato CSV: (LU, Materia, Fecha, Nota)"
   ]
  },
  {
   "cell_type": "code",
   "execution_count": 145,
   "metadata": {},
   "outputs": [],
   "source": [
    "def promedioEstudiante(legajo:str) -> float:\n",
    "    \n",
    "    # leo las notas\n",
    "    notas:list = []\n",
    "    with open(\"input_files/notas.csv\", \"r\") as file:\n",
    "        for line in file.readlines():\n",
    "            lu, materia, fecha, nota, _ = line.split(\",\")\n",
    "            if lu == legajo:\n",
    "                notas.append(float(nota))\n",
    "            pass\n",
    "        pass\n",
    "    \n",
    "    # calculo el promedio\n",
    "    if len(notas) == 0:\n",
    "        return -1\n",
    "    \n",
    "    return sum(notas) / len(notas)"
   ]
  },
  {
   "cell_type": "code",
   "execution_count": 148,
   "metadata": {},
   "outputs": [
    {
     "data": {
      "text/plain": [
       "8.5"
      ]
     },
     "execution_count": 148,
     "metadata": {},
     "output_type": "execute_result"
    }
   ],
   "source": [
    "promedioEstudiante(\"1028/22\")"
   ]
  },
  {
   "attachments": {},
   "cell_type": "markdown",
   "metadata": {},
   "source": [
    "# Pilas"
   ]
  },
  {
   "attachments": {},
   "cell_type": "markdown",
   "metadata": {},
   "source": [
    "## Ejercicio 8.\n",
    "\n",
    "Implementar una funcion generarNrosAlAzar(in n : int, in desde : int, in hasta : int) →list[int] que genere una lista de n numeros enteros al azar en el rango [desde, hasta]. Pueden user la funci ́on random.sample()"
   ]
  },
  {
   "cell_type": "code",
   "execution_count": 8,
   "metadata": {},
   "outputs": [],
   "source": [
    "import random\n",
    "def generarNrosAlAzar(n:int, desde:int, hasta:int) -> list:\n",
    "    lss:list = []\n",
    "    for i in range(n):\n",
    "        lss.append(random.randint(desde,hasta))\n",
    "    return lss"
   ]
  },
  {
   "cell_type": "code",
   "execution_count": 9,
   "metadata": {},
   "outputs": [
    {
     "data": {
      "text/plain": [
       "[1, 4, 9, 5, 9]"
      ]
     },
     "execution_count": 9,
     "metadata": {},
     "output_type": "execute_result"
    }
   ],
   "source": [
    "generarNrosAlAzar(5, 0, 10)"
   ]
  },
  {
   "attachments": {},
   "cell_type": "markdown",
   "metadata": {},
   "source": [
    "## Ejercicio 9\n",
    "\n",
    "Usando la funcion del punto anterior, implementar otra funcion que arme una pila con los numeros generados al azar. Pueden usar la clase LifoQueue() que es un ejemplo de una implementaci ́on basic"
   ]
  },
  {
   "cell_type": "code",
   "execution_count": 10,
   "metadata": {},
   "outputs": [],
   "source": [
    "from queue import LifoQueue as Pila\n",
    "\n",
    "def armarPila(lss:list) -> Pila:\n",
    "    p = Pila()\n",
    "    for n in lss:\n",
    "        p.put(n)\n",
    "    return p\n",
    "\n",
    "sample_pila:Pila = armarPila(generarNrosAlAzar(10, 0, 10))"
   ]
  },
  {
   "attachments": {},
   "cell_type": "markdown",
   "metadata": {},
   "source": [
    "## Ejercicio 10.\n",
    "Implementar una funci ́on cantidadElementos(in p : pila) →int que, dada una pila, cuente la cantidad de\n",
    "elementos que contiene"
   ]
  },
  {
   "cell_type": "code",
   "execution_count": 11,
   "metadata": {},
   "outputs": [
    {
     "data": {
      "text/plain": [
       "10"
      ]
     },
     "execution_count": 11,
     "metadata": {},
     "output_type": "execute_result"
    }
   ],
   "source": [
    "sample_pila.qsize() # no vacia la pila"
   ]
  },
  {
   "cell_type": "code",
   "execution_count": 12,
   "metadata": {},
   "outputs": [],
   "source": [
    "def cantidadElementos(T) -> int:\n",
    "    # vacia la pila tambien\n",
    "    n:int = 0\n",
    "    while(not T.empty()):\n",
    "        T.get()\n",
    "        n += 1\n",
    "    return n"
   ]
  },
  {
   "cell_type": "code",
   "execution_count": 13,
   "metadata": {},
   "outputs": [
    {
     "data": {
      "text/plain": [
       "10"
      ]
     },
     "execution_count": 13,
     "metadata": {},
     "output_type": "execute_result"
    }
   ],
   "source": [
    "cantidadElementos(sample_pila)"
   ]
  },
  {
   "attachments": {},
   "cell_type": "markdown",
   "metadata": {},
   "source": [
    "## Ejercicio 11.\n",
    " \n",
    "Dada una pila de enteros, implementar una funci ́on buscarElMaximo(in p : pila) →int que devuelva el m ́aximo\n",
    "elemento."
   ]
  },
  {
   "cell_type": "code",
   "execution_count": 14,
   "metadata": {},
   "outputs": [],
   "source": [
    "def buscarMaximo(T) -> float:\n",
    "    assert not T.empty() # requiere\n",
    "\n",
    "    max = T.get() # el 1ro\n",
    "    while(not(T.empty())):\n",
    "        val = T.get()\n",
    "        if val > max:\n",
    "            max = val\n",
    "    \n",
    "    return max"
   ]
  },
  {
   "cell_type": "code",
   "execution_count": 15,
   "metadata": {},
   "outputs": [
    {
     "data": {
      "text/plain": [
       "3"
      ]
     },
     "execution_count": 15,
     "metadata": {},
     "output_type": "execute_result"
    }
   ],
   "source": [
    "buscarMaximo(armarPila([0,1,2,3,2]))"
   ]
  },
  {
   "attachments": {},
   "cell_type": "markdown",
   "metadata": {},
   "source": [
    "## Ejercicio 12. \n",
    "\n",
    "Implementar una funcion estaBienBalanceada(in s : str) →bool que dado un string con una formula aritmetica sobre los enteros, diga si los parentesis estan bien balanceados. Las formulas pueden formarse con:\n",
    "\n",
    "* los numeros enteros\n",
    "* las operaciones basicas +, −, x y /\n",
    "* parentesis\n",
    "* espacios\n"
   ]
  },
  {
   "cell_type": "code",
   "execution_count": 16,
   "metadata": {},
   "outputs": [],
   "source": [
    "def estaBienBalanceada(s:str) -> bool:\n",
    "\n",
    "    p:Pila = Pila() # pila de parentesis\n",
    "    \n",
    "    for char in s:\n",
    "        if char == '(':\n",
    "            p.put('(')\n",
    "        elif char == ')':\n",
    "            if p.qsize() > 0:\n",
    "                p.get()\n",
    "            else:\n",
    "                return False\n",
    "    \n",
    "    long_pila:int = p.qsize()\n",
    "\n",
    "    if long_pila == 0:\n",
    "        return True\n",
    "\n",
    "    return False                 \n"
   ]
  },
  {
   "cell_type": "code",
   "execution_count": 17,
   "metadata": {},
   "outputs": [
    {
     "data": {
      "text/plain": [
       "True"
      ]
     },
     "execution_count": 17,
     "metadata": {},
     "output_type": "execute_result"
    }
   ],
   "source": [
    "estaBienBalanceada(\"(())\")"
   ]
  },
  {
   "attachments": {},
   "cell_type": "markdown",
   "metadata": {},
   "source": [
    "## Ejercicio 13.\n",
    "\n",
    "Usando la funci ́on generarNrosAlAzar() definida en la secci ́on anterior, implementar una funci ́on que arme una\n",
    "cola de enteros con los numeros generados al azar. Pueden usar la clase Queue() que es un ejemplo de una implementaci ́on b ́asica"
   ]
  },
  {
   "cell_type": "code",
   "execution_count": 18,
   "metadata": {},
   "outputs": [],
   "source": [
    "from queue import Queue as Cola\n",
    "\n",
    "def armarCola(lss:list) -> Cola:\n",
    "    queue:Cola = Cola()\n",
    "    for n in lss:\n",
    "        queue.put(n)\n",
    "    return queue\n",
    "\n",
    "sample_queue:Cola = armarCola(generarNrosAlAzar(10,0,10))"
   ]
  },
  {
   "attachments": {},
   "cell_type": "markdown",
   "metadata": {},
   "source": [
    "## Ejercicio 14, 15 (idem a Queues)"
   ]
  },
  {
   "attachments": {},
   "cell_type": "markdown",
   "metadata": {},
   "source": [
    "## Ejercicio 16\n",
    "\n",
    "Bingo: un carton de bingo contiene 12 numeros al azar en el rango [0, 99].\n",
    "\n",
    "1. Implementar una funcion armarSecuenciaDeBingo() →Cola[int] que genere una cola con los n ́umeros del 0 al 99 ordenados al azar.\n",
    "\n",
    "2. Implementar una funcion jugarCartonDeBingo(in carton : list[int], in bolillero : cola[int]) →int que toma un cart ́on\n",
    "de Bingo y una cola de enteros (que corresponden a las bolillas numeradas) y determina cual es la cantidad de jugadas de\n",
    "ese bolillero que se necesitan para ganar"
   ]
  },
  {
   "cell_type": "code",
   "execution_count": 19,
   "metadata": {},
   "outputs": [],
   "source": [
    "# [1]\n",
    "\n",
    "def armarSecuenciaDeBingo() -> Cola:\n",
    "    numeros:list = list(range(0, 100))\n",
    "    queue:Cola = Cola()\n",
    "    while(len(numeros) > 0):\n",
    "        rnd_i:int = random.randint(0, len(numeros)-1)\n",
    "        value:int = numeros[rnd_i]\n",
    "        queue.put(value)\n",
    "        numeros.remove(value)\n",
    "    return queue"
   ]
  },
  {
   "cell_type": "code",
   "execution_count": 20,
   "metadata": {},
   "outputs": [
    {
     "data": {
      "text/plain": [
       "100"
      ]
     },
     "execution_count": 20,
     "metadata": {},
     "output_type": "execute_result"
    }
   ],
   "source": [
    "armarSecuenciaDeBingo().qsize()"
   ]
  },
  {
   "cell_type": "code",
   "execution_count": 21,
   "metadata": {},
   "outputs": [],
   "source": [
    "# [2]\n",
    "\n",
    "def jugarCartonDeBingo(carton:list, bolillero:Cola) -> int:\n",
    "    # requiere que todos los numeros del carton esten en el bolillero\n",
    "    contador:int = 0\n",
    "    while(len(carton) > 0):\n",
    "        nro:int = bolillero.get()\n",
    "        if nro in carton:\n",
    "            carton.remove(nro)\n",
    "        contador += 1\n",
    "\n",
    "    return contador"
   ]
  },
  {
   "cell_type": "code",
   "execution_count": 22,
   "metadata": {},
   "outputs": [
    {
     "data": {
      "text/plain": [
       "24"
      ]
     },
     "execution_count": 22,
     "metadata": {},
     "output_type": "execute_result"
    }
   ],
   "source": [
    "jugarCartonDeBingo([1,2], armarSecuenciaDeBingo())"
   ]
  },
  {
   "attachments": {},
   "cell_type": "markdown",
   "metadata": {},
   "source": [
    "## Ejercicio 17.\n",
    "\n",
    "Vamos a modelar una guardia de un hospital usando una cola donde se van almacenando los pedidos de atenci ́on para los pacientes que van llegando. A cada paciente se le asigna una prioridad del 1 al 10 (donde la prioridad 1 es la mas urgente y requiere atenci ́on inmediata) junto con su nombre y la especialidad medica que le corresponde.\n",
    "\n",
    "Implementar la funcion nPacientesUrgentes(in c : Cola[(int, str, str)]) →int que devuelve la cantidad de pacientes de la cola que tienen prioridad en el rango [1, 3]"
   ]
  },
  {
   "cell_type": "code",
   "execution_count": 27,
   "metadata": {},
   "outputs": [],
   "source": [
    "def nPacientesUrgentes(c:Cola) -> int:\n",
    "    contador:int = 0\n",
    "    while(not c.empty()):\n",
    "        if 1 <= c.get() <= 3:\n",
    "            contador += 1\n",
    "    return contador"
   ]
  },
  {
   "cell_type": "code",
   "execution_count": 28,
   "metadata": {},
   "outputs": [
    {
     "data": {
      "text/plain": [
       "4"
      ]
     },
     "execution_count": 28,
     "metadata": {},
     "output_type": "execute_result"
    }
   ],
   "source": [
    "nPacientesUrgentes(armarCola([1,2,3,4,5,6,2]))"
   ]
  },
  {
   "attachments": {},
   "cell_type": "markdown",
   "metadata": {},
   "source": [
    "# Diccionarios"
   ]
  },
  {
   "attachments": {},
   "cell_type": "markdown",
   "metadata": {},
   "source": [
    "## Ejercicio 18\n",
    "\n",
    "Leer un archivo de texto y agrupar la cantidad de palabras de acuerdo a su longitud. Implementar la funcion agruparPorLongitud(in nombre archivo : str) →dict que devuelve un diccionario {longitud en letras : cantidad de palabras}"
   ]
  },
  {
   "cell_type": "code",
   "execution_count": 72,
   "metadata": {},
   "outputs": [],
   "source": [
    "def Palabras(ln:str) -> list:\n",
    "    out:list = []\n",
    "    tmp:str = \"\"\n",
    "    for chr in ln:\n",
    "        if chr == ' ' or chr == '\\n':\n",
    "            tmp = tmp.strip()\n",
    "            if len(tmp) > 0:\n",
    "                out.append(tmp)\n",
    "            tmp = \"\"\n",
    "        else:\n",
    "            tmp += chr\n",
    "    \n",
    "    if len(tmp) > 0:\n",
    "        out.append(tmp)\n",
    "    return out "
   ]
  },
  {
   "cell_type": "code",
   "execution_count": 73,
   "metadata": {},
   "outputs": [
    {
     "data": {
      "text/plain": [
       "['bocate', 'amo']"
      ]
     },
     "execution_count": 73,
     "metadata": {},
     "output_type": "execute_result"
    }
   ],
   "source": [
    "Palabras(\"bocate amo\")"
   ]
  },
  {
   "cell_type": "code",
   "execution_count": 74,
   "metadata": {},
   "outputs": [],
   "source": [
    "def agruparPorLongitud(nombre_archivo:str) -> dict:\n",
    "    out:dict = dict()\n",
    "    with open(nombre_archivo, \"r\") as file:\n",
    "        for line in file.readlines():\n",
    "            for palabra in Palabras(line):\n",
    "                l:int = len(palabra)\n",
    "                if l in out.keys():\n",
    "                    out[l] += 1\n",
    "                else:\n",
    "                    out.update({l: 1})\n",
    "    return out"
   ]
  },
  {
   "cell_type": "code",
   "execution_count": 58,
   "metadata": {},
   "outputs": [
    {
     "data": {
      "text/plain": [
       "{10: 1, 8: 1, 5: 1, 4: 1, 2: 1, 9: 1}"
      ]
     },
     "execution_count": 58,
     "metadata": {},
     "output_type": "execute_result"
    }
   ],
   "source": [
    "agruparPorLongitud(\"input_files/texto1.txt\")"
   ]
  },
  {
   "attachments": {},
   "cell_type": "markdown",
   "metadata": {},
   "source": [
    "## Ejercicio 19\n",
    "\n",
    "Volver a implementar la funcion que calcula el promedio de las notas de los alumnos, pero ahora devolver un diccionario {libreta universitaria : promedio} con los promedios de todos los alumnos."
   ]
  },
  {
   "cell_type": "code",
   "execution_count": 64,
   "metadata": {},
   "outputs": [],
   "source": [
    "def promedioEstudiantes(nombre_archivo:str) -> dict:\n",
    "    \n",
    "    # leo las notas\n",
    "    notas:dict = dict()\n",
    "    with open(nombre_archivo, \"r\") as file:\n",
    "        for line in file.readlines():\n",
    "            lu, materia, fecha, nota, _ = line.split(\",\")\n",
    "            if lu in notas.keys():\n",
    "                notas[lu].append(float(nota))\n",
    "            else:\n",
    "                notas.update({lu: [float(nota)]})\n",
    "        pass\n",
    "        \n",
    "    # calculo el promedio\n",
    "    out:dict = dict()\n",
    "    for lu in notas.keys():\n",
    "        notas_estudiante:list = notas[lu]\n",
    "        out.update({lu: sum(notas_estudiante) / len(notas_estudiante)})\n",
    "\n",
    "    return out"
   ]
  },
  {
   "cell_type": "code",
   "execution_count": 65,
   "metadata": {},
   "outputs": [
    {
     "data": {
      "text/plain": [
       "{'1028/22': 8.5, '1014/22': 10.0}"
      ]
     },
     "execution_count": 65,
     "metadata": {},
     "output_type": "execute_result"
    }
   ],
   "source": [
    "promedioEstudiantes(\"input_files/notas.csv\")"
   ]
  },
  {
   "attachments": {},
   "cell_type": "markdown",
   "metadata": {},
   "source": [
    "## Ejercicio 20\n",
    "Implementar la funcion laPalabraMasFrecuente(in nombre archivo : str) →str que devuelve la palabra que mas veces aparece en un archivo de texto"
   ]
  },
  {
   "cell_type": "code",
   "execution_count": 90,
   "metadata": {},
   "outputs": [],
   "source": [
    "def laPalabraMasFrecuente(nombre_archivo:str) -> str:\n",
    "    aparicion_palabras:dict = dict()\n",
    "    with open(nombre_archivo, \"r\") as file:\n",
    "        for line in file.readlines():\n",
    "            for palabra in Palabras(line):\n",
    "                if palabra in aparicion_palabras.keys():\n",
    "                    aparicion_palabras[palabra] += 1\n",
    "                else:\n",
    "                    aparicion_palabras.update({palabra : 1})\n",
    "\n",
    "    if len(aparicion_palabras.keys()) == 0:\n",
    "        return \"\"\n",
    "\n",
    "    palabras:list = list(aparicion_palabras.keys())\n",
    "    palabra_mas_repetida:str = palabras[0]\n",
    "    max_apariciones:int = aparicion_palabras[palabra_mas_repetida]\n",
    "    \n",
    "\n",
    "    for palabra in palabras[1:]:\n",
    "        n_apariciones:int = aparicion_palabras[palabra]\n",
    "        if n_apariciones > max_apariciones:\n",
    "            max_apariciones = n_apariciones\n",
    "            palabra_mas_repetida = palabra\n",
    "\n",
    "    return palabra_mas_repetida"
   ]
  },
  {
   "cell_type": "code",
   "execution_count": 91,
   "metadata": {},
   "outputs": [
    {
     "data": {
      "text/plain": [
       "'boca'"
      ]
     },
     "execution_count": 91,
     "metadata": {},
     "output_type": "execute_result"
    }
   ],
   "source": [
    "laPalabraMasFrecuente(\"input_files/texto1.txt\")"
   ]
  },
  {
   "cell_type": "code",
   "execution_count": 66,
   "metadata": {},
   "outputs": [],
   "source": [
    "def invertirDiccionario(d:dict) -> dict:\n",
    "    out:dict = dict()\n",
    "    for key in d.keys():\n",
    "        out.update({d[key]:key})\n",
    "    return out"
   ]
  },
  {
   "attachments": {},
   "cell_type": "markdown",
   "metadata": {},
   "source": [
    "# Extra: Funciones sin condicionales."
   ]
  },
  {
   "cell_type": "code",
   "execution_count": 5,
   "metadata": {},
   "outputs": [
    {
     "data": {
      "text/plain": [
       "3"
      ]
     },
     "execution_count": 5,
     "metadata": {},
     "output_type": "execute_result"
    }
   ],
   "source": [
    "def f(n):\n",
    "    return (n%2 == 0 and n) or (n%3 == 0 and n) \n",
    "\n",
    "f(3)"
   ]
  },
  {
   "attachments": {},
   "cell_type": "markdown",
   "metadata": {},
   "source": []
  }
 ],
 "metadata": {
  "kernelspec": {
   "display_name": "Python 3",
   "language": "python",
   "name": "python3"
  },
  "language_info": {
   "codemirror_mode": {
    "name": "ipython",
    "version": 3
   },
   "file_extension": ".py",
   "mimetype": "text/x-python",
   "name": "python",
   "nbconvert_exporter": "python",
   "pygments_lexer": "ipython3",
   "version": "3.10.11"
  },
  "orig_nbformat": 4
 },
 "nbformat": 4,
 "nbformat_minor": 2
}
